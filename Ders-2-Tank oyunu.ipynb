{
 "cells": [
  {
   "cell_type": "code",
   "execution_count": 1,
   "id": "0b869df7",
   "metadata": {},
   "outputs": [
    {
     "name": "stdout",
     "output_type": "stream",
     "text": [
      "pygame 2.1.2 (SDL 2.0.18, Python 3.8.8)\n",
      "Hello from the pygame community. https://www.pygame.org/contribute.html\n"
     ]
    }
   ],
   "source": [
    "import pygame\n",
    "\n",
    "pygame.init()\n",
    "\n",
    "en, boy = 800, 600\n",
    "\n",
    "ekran = pygame.display.set_mode((en,boy))\n",
    "pygame.display.set_caption = \"Tank oyunu\"\n",
    "\n",
    "font = pygame.font.SysFont(\"Helvetica\", 18)\n",
    "fontpuan =  pygame.font.SysFont(\"Arial\", 10)\n",
    "\n",
    "yazı = font.render(\"Oyunuma Hoş geldiniz\", True,(0,255,0))\n",
    "puan = fontpuan.render(\"Puan:0\", True, (255,0,0))\n",
    "\n",
    "yazıboyutu = yazı.get_size()\n",
    "\n",
    "tank = pygame.image.load(\"tank.png\")\n",
    "tankX, tankY = 0,0\n",
    "yönX, yönY = 1,1\n",
    "tankboyut = tank.get_size()\n",
    "\n",
    "tank2X, tank2Y = 0,0\n",
    "yön2X, yön2Y = 1,1\n",
    "hız = 0.25\n",
    "\n",
    "başla = True\n",
    "\n",
    "while başla:\n",
    "    for i in pygame.event.get():\n",
    "        if i.type == pygame.QUIT:\n",
    "            başla = False\n",
    "            \n",
    "    \n",
    "    ekran.fill((0,0,255))\n",
    "    ekran.blit(yazı,(en/2 - yazıboyutu[0] // 2, 10))\n",
    "    ekran.blit(puan,(10,20))\n",
    "    ekran.blit(tank,(tankX,tankY))\n",
    "    \n",
    "    tankX += 0.25*yönX\n",
    "    tankY += 0.25*yönY\n",
    "    \n",
    "    if tankX > en - tankboyut[0] or tankX <0:\n",
    "        yönX *= -1\n",
    "    if tankY > boy - tankboyut[1] or tankY <0:\n",
    "        yönY *= -1\n",
    "        \n",
    "    tuş = pygame.key.get_pressed()\n",
    "    if tuş[pygame.K_LEFT] and yön2X > 0:\n",
    "        yön2X -= hız\n",
    "    if tuş[pygame.K_RIGHT] and yön2X < en - tankboyut[0]:\n",
    "        yön2X += hız\n",
    "    if tuş[pygame.K_UP] and yön2Y > 0:\n",
    "        yön2Y -= hız\n",
    "    if tuş[pygame.K_DOWN] and yön2Y < boy - tankboyut[1]:\n",
    "        yön2Y += hız\n",
    "    \n",
    "    ekran.blit(tank,(yön2X,yön2Y))\n",
    "    pygame.display.flip()"
   ]
  },
  {
   "cell_type": "code",
   "execution_count": null,
   "id": "b80cf7f5",
   "metadata": {},
   "outputs": [],
   "source": []
  },
  {
   "cell_type": "code",
   "execution_count": null,
   "id": "c708a9af",
   "metadata": {},
   "outputs": [],
   "source": []
  },
  {
   "cell_type": "code",
   "execution_count": null,
   "id": "3ddc176c",
   "metadata": {},
   "outputs": [],
   "source": []
  },
  {
   "cell_type": "code",
   "execution_count": null,
   "id": "9baf292c",
   "metadata": {},
   "outputs": [],
   "source": []
  }
 ],
 "metadata": {
  "kernelspec": {
   "display_name": "Python 3",
   "language": "python",
   "name": "python3"
  },
  "language_info": {
   "codemirror_mode": {
    "name": "ipython",
    "version": 3
   },
   "file_extension": ".py",
   "mimetype": "text/x-python",
   "name": "python",
   "nbconvert_exporter": "python",
   "pygments_lexer": "ipython3",
   "version": "3.8.8"
  }
 },
 "nbformat": 4,
 "nbformat_minor": 5
}
